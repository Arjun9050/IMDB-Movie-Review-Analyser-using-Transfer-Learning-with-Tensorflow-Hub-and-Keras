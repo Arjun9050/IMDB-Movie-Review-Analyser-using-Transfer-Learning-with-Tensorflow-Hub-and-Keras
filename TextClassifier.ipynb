{
 "cells": [
  {
   "cell_type": "code",
   "execution_count": 5,
   "metadata": {},
   "outputs": [],
   "source": [
    "#import \n",
    "import tensorflow as tf\n",
    "import tensorflow_datasets as tfds\n",
    "import tensorflow_hub as hub"
   ]
  },
  {
   "cell_type": "code",
   "execution_count": 7,
   "metadata": {},
   "outputs": [
    {
     "name": "stdout",
     "output_type": "stream",
     "text": [
      "Eager Mode:  True\n"
     ]
    }
   ],
   "source": [
    "tf.enable_eager_execution()\n",
    "print(\"Eager Mode: \",tf.executing_eagerly())"
   ]
  },
  {
   "cell_type": "code",
   "execution_count": 8,
   "metadata": {},
   "outputs": [],
   "source": [
    "#load the dataset\n",
    "train_validation_split = tfds.Split.TRAIN.subsplit([6, 4])\n",
    "\n",
    "(train_data, validation_data), test_data = tfds.load(\n",
    "    name=\"imdb_reviews\",\n",
    "    split=(train_validation_split, tfds.Split.TEST),\n",
    "    as_supervised=True)"
   ]
  },
  {
   "cell_type": "code",
   "execution_count": 17,
   "metadata": {},
   "outputs": [
    {
     "data": {
      "text/plain": [
       "<tf.Tensor: id=313, shape=(), dtype=int64, numpy=1>"
      ]
     },
     "execution_count": 17,
     "metadata": {},
     "output_type": "execute_result"
    }
   ],
   "source": [
    "#lets look into the data\n",
    "train_examples_batch,train_labels_batch=next(iter(train_data.batch(10)))\n",
    "train_labels_batch[0]"
   ]
  },
  {
   "cell_type": "code",
   "execution_count": 18,
   "metadata": {},
   "outputs": [
    {
     "data": {
      "text/plain": [
       "<tf.Tensor: id=495, shape=(2, 20), dtype=float32, numpy=\n",
       "array([[ 3.9819887 , -4.4838037 ,  5.177359  , -2.3643482 , -3.2938678 ,\n",
       "        -3.5364532 , -2.4786978 ,  2.5525482 ,  6.688532  , -2.3076782 ,\n",
       "        -1.9807833 ,  1.1315885 , -3.0339816 , -0.7604128 , -5.743445  ,\n",
       "         3.4242578 ,  4.790099  , -4.03061   , -5.992149  , -1.7297493 ],\n",
       "       [ 3.4232912 , -4.230874  ,  4.1488533 , -0.29553518, -6.802391  ,\n",
       "        -2.5163853 , -4.4002395 ,  1.905792  ,  4.7512794 , -0.40538004,\n",
       "        -4.3401685 ,  1.0361497 ,  0.9744097 ,  0.71507156, -6.2657013 ,\n",
       "         0.16533905,  4.560262  , -1.3106939 , -3.1121316 , -2.1338716 ]],\n",
       "      dtype=float32)>"
      ]
     },
     "execution_count": 18,
     "metadata": {},
     "output_type": "execute_result"
    }
   ],
   "source": [
    "#preprocess the input\n",
    "embedding = \"https://tfhub.dev/google/tf2-preview/gnews-swivel-20dim/1\"\n",
    "hub_layer = hub.KerasLayer(embedding, input_shape=[], \n",
    "                           dtype=tf.string, trainable=True)\n",
    "hub_layer(train_examples_batch[0:2])"
   ]
  },
  {
   "cell_type": "code",
   "execution_count": 19,
   "metadata": {},
   "outputs": [
    {
     "name": "stdout",
     "output_type": "stream",
     "text": [
      "WARNING:tensorflow:Entity <bound method KerasLayer.call of <tensorflow_hub.keras_layer.KerasLayer object at 0x000001ADE438B348>> could not be transformed and will be executed as-is. Please report this to the AutgoGraph team. When filing the bug, set the verbosity to 10 (on Linux, `export AUTOGRAPH_VERBOSITY=10`) and attach the full output. Cause: converting <bound method KerasLayer.call of <tensorflow_hub.keras_layer.KerasLayer object at 0x000001ADE438B348>>: AttributeError: module 'gast' has no attribute 'Num'\n"
     ]
    },
    {
     "name": "stderr",
     "output_type": "stream",
     "text": [
      "WARNING:tensorflow:Entity <bound method KerasLayer.call of <tensorflow_hub.keras_layer.KerasLayer object at 0x000001ADE438B348>> could not be transformed and will be executed as-is. Please report this to the AutgoGraph team. When filing the bug, set the verbosity to 10 (on Linux, `export AUTOGRAPH_VERBOSITY=10`) and attach the full output. Cause: converting <bound method KerasLayer.call of <tensorflow_hub.keras_layer.KerasLayer object at 0x000001ADE438B348>>: AttributeError: module 'gast' has no attribute 'Num'\n"
     ]
    },
    {
     "name": "stdout",
     "output_type": "stream",
     "text": [
      "WARNING: Entity <bound method KerasLayer.call of <tensorflow_hub.keras_layer.KerasLayer object at 0x000001ADE438B348>> could not be transformed and will be executed as-is. Please report this to the AutgoGraph team. When filing the bug, set the verbosity to 10 (on Linux, `export AUTOGRAPH_VERBOSITY=10`) and attach the full output. Cause: converting <bound method KerasLayer.call of <tensorflow_hub.keras_layer.KerasLayer object at 0x000001ADE438B348>>: AttributeError: module 'gast' has no attribute 'Num'\n"
     ]
    }
   ],
   "source": [
    "#define the model\n",
    "model = tf.keras.Sequential()\n",
    "model.add(hub_layer)\n",
    "model.add(tf.keras.layers.Dense(16, activation='relu'))\n",
    "model.add(tf.keras.layers.Dense(1, activation='sigmoid'))\n",
    "\n",
    "model.compile(optimizer='adam',\n",
    "              loss='binary_crossentropy',\n",
    "              metrics=['accuracy'])"
   ]
  },
  {
   "cell_type": "code",
   "execution_count": 20,
   "metadata": {},
   "outputs": [
    {
     "name": "stdout",
     "output_type": "stream",
     "text": [
      "Epoch 1/20\n",
      "WARNING:tensorflow:From C:\\Users\\Sarvanan\\Anaconda3\\lib\\site-packages\\tensorflow\\python\\ops\\math_grad.py:1250: add_dispatch_support.<locals>.wrapper (from tensorflow.python.ops.array_ops) is deprecated and will be removed in a future version.\n",
      "Instructions for updating:\n",
      "Use tf.where in 2.0, which has the same broadcast rule as np.where\n"
     ]
    },
    {
     "name": "stderr",
     "output_type": "stream",
     "text": [
      "WARNING:tensorflow:From C:\\Users\\Sarvanan\\Anaconda3\\lib\\site-packages\\tensorflow\\python\\ops\\math_grad.py:1250: add_dispatch_support.<locals>.wrapper (from tensorflow.python.ops.array_ops) is deprecated and will be removed in a future version.\n",
      "Instructions for updating:\n",
      "Use tf.where in 2.0, which has the same broadcast rule as np.where\n"
     ]
    },
    {
     "name": "stdout",
     "output_type": "stream",
     "text": [
      "30/30 - 6s - loss: 0.6672 - acc: 0.5926 - val_loss: 0.0000e+00 - val_acc: 0.0000e+00\n",
      "Epoch 2/20\n",
      "30/30 - 4s - loss: 0.6193 - acc: 0.6643 - val_loss: 0.6065 - val_acc: 0.6915\n",
      "Epoch 3/20\n",
      "30/30 - 4s - loss: 0.5817 - acc: 0.7114 - val_loss: 0.5722 - val_acc: 0.7289\n",
      "Epoch 4/20\n",
      "30/30 - 4s - loss: 0.5445 - acc: 0.7449 - val_loss: 0.5378 - val_acc: 0.7537\n",
      "Epoch 5/20\n",
      "30/30 - 4s - loss: 0.5064 - acc: 0.7707 - val_loss: 0.5035 - val_acc: 0.7735\n",
      "Epoch 6/20\n",
      "30/30 - 4s - loss: 0.4651 - acc: 0.7957 - val_loss: 0.4611 - val_acc: 0.7925\n",
      "Epoch 7/20\n",
      "30/30 - 4s - loss: 0.4162 - acc: 0.8207 - val_loss: 0.4274 - val_acc: 0.8109\n",
      "Epoch 8/20\n",
      "30/30 - 4s - loss: 0.3794 - acc: 0.8421 - val_loss: 0.4030 - val_acc: 0.8210\n",
      "Epoch 9/20\n",
      "30/30 - 4s - loss: 0.3490 - acc: 0.8573 - val_loss: 0.3830 - val_acc: 0.8331\n",
      "Epoch 10/20\n",
      "30/30 - 4s - loss: 0.3225 - acc: 0.8705 - val_loss: 0.3664 - val_acc: 0.8400\n",
      "Epoch 11/20\n",
      "30/30 - 4s - loss: 0.2991 - acc: 0.8814 - val_loss: 0.3526 - val_acc: 0.8483\n",
      "Epoch 12/20\n",
      "30/30 - 4s - loss: 0.2782 - acc: 0.8912 - val_loss: 0.3413 - val_acc: 0.8535\n",
      "Epoch 13/20\n",
      "30/30 - 4s - loss: 0.2594 - acc: 0.8999 - val_loss: 0.3321 - val_acc: 0.8595\n",
      "Epoch 14/20\n",
      "30/30 - 4s - loss: 0.2424 - acc: 0.9085 - val_loss: 0.3246 - val_acc: 0.8619\n",
      "Epoch 15/20\n",
      "30/30 - 4s - loss: 0.2268 - acc: 0.9147 - val_loss: 0.3187 - val_acc: 0.8644\n",
      "Epoch 16/20\n",
      "30/30 - 4s - loss: 0.2125 - acc: 0.9219 - val_loss: 0.3140 - val_acc: 0.8671\n",
      "Epoch 17/20\n",
      "30/30 - 4s - loss: 0.1993 - acc: 0.9272 - val_loss: 0.3106 - val_acc: 0.8674\n",
      "Epoch 18/20\n",
      "30/30 - 4s - loss: 0.1870 - acc: 0.9333 - val_loss: 0.3083 - val_acc: 0.8710\n",
      "Epoch 19/20\n",
      "30/30 - 4s - loss: 0.1756 - acc: 0.9383 - val_loss: 0.3068 - val_acc: 0.8720\n",
      "Epoch 20/20\n",
      "30/30 - 4s - loss: 0.1650 - acc: 0.9440 - val_loss: 0.3062 - val_acc: 0.8725\n"
     ]
    },
    {
     "data": {
      "text/plain": [
       "<tensorflow.python.keras.callbacks.History at 0x1adec7f48c8>"
      ]
     },
     "execution_count": 20,
     "metadata": {},
     "output_type": "execute_result"
    }
   ],
   "source": [
    "#train the model\n",
    "model.fit(train_data.shuffle(10000).batch(512),\n",
    "          epochs=20,\n",
    "          validation_data=validation_data.batch(512),\n",
    "          verbose=2)"
   ]
  },
  {
   "cell_type": "code",
   "execution_count": 21,
   "metadata": {},
   "outputs": [
    {
     "name": "stdout",
     "output_type": "stream",
     "text": [
      "     49/Unknown - 0s 215ms/step - loss: 0.2808 - acc: 0.88 - 0s 146ms/step - loss: 0.2809 - acc: 0.88 - 0s 126ms/step - loss: 0.2840 - acc: 0.88 - 0s 116ms/step - loss: 0.3043 - acc: 0.87 - 1s 110ms/step - loss: 0.3139 - acc: 0.87 - 1s 106ms/step - loss: 0.3291 - acc: 0.86 - 1s 102ms/step - loss: 0.3319 - acc: 0.86 - 1s 98ms/step - loss: 0.3293 - acc: 0.8655 - 1s 95ms/step - loss: 0.3327 - acc: 0.862 - 1s 94ms/step - loss: 0.3287 - acc: 0.863 - 1s 93ms/step - loss: 0.3304 - acc: 0.863 - 1s 92ms/step - loss: 0.3315 - acc: 0.863 - 1s 90ms/step - loss: 0.3317 - acc: 0.863 - 1s 89ms/step - loss: 0.3311 - acc: 0.863 - 1s 87ms/step - loss: 0.3282 - acc: 0.864 - 1s 87ms/step - loss: 0.3270 - acc: 0.863 - 1s 86ms/step - loss: 0.3269 - acc: 0.864 - 2s 85ms/step - loss: 0.3264 - acc: 0.863 - 2s 85ms/step - loss: 0.3275 - acc: 0.864 - 2s 84ms/step - loss: 0.3250 - acc: 0.865 - 2s 83ms/step - loss: 0.3260 - acc: 0.863 - 2s 83ms/step - loss: 0.3243 - acc: 0.864 - 2s 83ms/step - loss: 0.3243 - acc: 0.865 - 2s 82ms/step - loss: 0.3262 - acc: 0.863 - 2s 82ms/step - loss: 0.3259 - acc: 0.864 - 2s 82ms/step - loss: 0.3237 - acc: 0.865 - 2s 81ms/step - loss: 0.3233 - acc: 0.865 - 2s 81ms/step - loss: 0.3244 - acc: 0.864 - 2s 81ms/step - loss: 0.3237 - acc: 0.864 - 2s 80ms/step - loss: 0.3229 - acc: 0.864 - 2s 81ms/step - loss: 0.3233 - acc: 0.864 - 3s 80ms/step - loss: 0.3240 - acc: 0.864 - 3s 80ms/step - loss: 0.3232 - acc: 0.864 - 3s 80ms/step - loss: 0.3229 - acc: 0.864 - 3s 79ms/step - loss: 0.3232 - acc: 0.864 - 3s 79ms/step - loss: 0.3224 - acc: 0.864 - 3s 79ms/step - loss: 0.3230 - acc: 0.864 - 3s 79ms/step - loss: 0.3245 - acc: 0.863 - 3s 79ms/step - loss: 0.3249 - acc: 0.863 - 3s 79ms/step - loss: 0.3241 - acc: 0.863 - 3s 79ms/step - loss: 0.3249 - acc: 0.863 - 3s 78ms/step - loss: 0.3250 - acc: 0.863 - 3s 78ms/step - loss: 0.3246 - acc: 0.863 - 3s 78ms/step - loss: 0.3241 - acc: 0.863 - 4s 78ms/step - loss: 0.3237 - acc: 0.864 - 4s 78ms/step - loss: 0.3253 - acc: 0.863 - 4s 78ms/step - loss: 0.3251 - acc: 0.863 - 4s 78ms/step - loss: 0.3242 - acc: 0.863 - 4s 79ms/step - loss: 0.3245 - acc: 0.863 - 4s 79ms/step - loss: 0.3245 - acc: 0.8636"
     ]
    },
    {
     "data": {
      "text/plain": [
       "[0.324531794202571, 0.86356]"
      ]
     },
     "execution_count": 21,
     "metadata": {},
     "output_type": "execute_result"
    }
   ],
   "source": [
    "#lets evaluate using test dataset\n",
    "model.evaluate(test_data.batch(512))"
   ]
  },
  {
   "cell_type": "code",
   "execution_count": 22,
   "metadata": {},
   "outputs": [
    {
     "data": {
      "text/plain": [
       "array([[0.93190926]], dtype=float32)"
      ]
     },
     "execution_count": 22,
     "metadata": {},
     "output_type": "execute_result"
    }
   ],
   "source": [
    "#lets start the predicting the outcome\n",
    "model.predict(train_examples_batch[0:1])"
   ]
  },
  {
   "cell_type": "code",
   "execution_count": 27,
   "metadata": {},
   "outputs": [],
   "source": [
    "#define a method to display whether its a positive review or negative review\n",
    "def review_analyser(review):\n",
    "    #convert the input string to tensor\n",
    "    review_tensor=tf.convert_to_tensor([review])\n",
    "    review_rating=model.predict(review_tensor)[0][0]\n",
    "    return 'Positive Rating' if review_rating>.5 else 'Negative Rating'"
   ]
  },
  {
   "cell_type": "code",
   "execution_count": 33,
   "metadata": {},
   "outputs": [
    {
     "data": {
      "text/plain": [
       "'Negative Rating'"
      ]
     },
     "execution_count": 33,
     "metadata": {},
     "output_type": "execute_result"
    }
   ],
   "source": [
    "review_analyser('Worst movie ever')"
   ]
  },
  {
   "cell_type": "code",
   "execution_count": null,
   "metadata": {},
   "outputs": [],
   "source": []
  },
  {
   "cell_type": "code",
   "execution_count": null,
   "metadata": {},
   "outputs": [],
   "source": []
  },
  {
   "cell_type": "code",
   "execution_count": null,
   "metadata": {},
   "outputs": [],
   "source": []
  },
  {
   "cell_type": "code",
   "execution_count": null,
   "metadata": {},
   "outputs": [],
   "source": []
  },
  {
   "cell_type": "code",
   "execution_count": null,
   "metadata": {},
   "outputs": [],
   "source": []
  },
  {
   "cell_type": "code",
   "execution_count": null,
   "metadata": {},
   "outputs": [],
   "source": []
  },
  {
   "cell_type": "code",
   "execution_count": null,
   "metadata": {},
   "outputs": [],
   "source": []
  },
  {
   "cell_type": "code",
   "execution_count": null,
   "metadata": {},
   "outputs": [],
   "source": []
  }
 ],
 "metadata": {
  "kernelspec": {
   "display_name": "Python 3",
   "language": "python",
   "name": "python3"
  },
  "language_info": {
   "codemirror_mode": {
    "name": "ipython",
    "version": 3
   },
   "file_extension": ".py",
   "mimetype": "text/x-python",
   "name": "python",
   "nbconvert_exporter": "python",
   "pygments_lexer": "ipython3",
   "version": "3.7.4"
  }
 },
 "nbformat": 4,
 "nbformat_minor": 2
}
